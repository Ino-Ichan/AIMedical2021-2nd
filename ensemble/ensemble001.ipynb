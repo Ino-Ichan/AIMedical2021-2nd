{
 "cells": [
  {
   "cell_type": "code",
   "execution_count": null,
   "id": "exotic-receiver",
   "metadata": {},
   "outputs": [],
   "source": [
    "ens = '001'"
   ]
  },
  {
   "cell_type": "code",
   "execution_count": null,
   "id": "binary-engineer",
   "metadata": {},
   "outputs": [],
   "source": [
    "import pandas as pd\n",
    "import numpy as np\n",
    "from sklearn.metrics import roc_auc_score"
   ]
  },
  {
   "cell_type": "code",
   "execution_count": null,
   "id": "continued-finland",
   "metadata": {},
   "outputs": [],
   "source": [
    "df_sub = pd.read_csv('/workspace/data/sample_submission.csv')\n",
    "df = pd.read_csv('/workspace/data/df_train.csv')"
   ]
  },
  {
   "cell_type": "code",
   "execution_count": null,
   "id": "prompt-punishment",
   "metadata": {},
   "outputs": [],
   "source": [
    "df_oof_list = [\n",
    "    pd.read_csv('../exp/exp001/oof.csv'),\n",
    "    pd.read_csv('../exp/exp002/oof.csv'),\n",
    "    pd.read_csv('../exp/exp004/oof.csv'),\n",
    "    pd.read_csv('../exp/exp009/oof.csv'),\n",
    "    pd.read_csv('../exp/exp011/oof.csv'),\n",
    "]\n",
    "\n",
    "\n",
    "\n",
    "df_sub_list = [\n",
    "    pd.read_csv('../exp/exp001/submit.csv'),\n",
    "    pd.read_csv('../exp/exp002/submit.csv'),\n",
    "    pd.read_csv('../exp/exp004/submit.csv'),\n",
    "    pd.read_csv('../exp/exp009/submit.csv'),\n",
    "    pd.read_csv('../exp/exp011/submit.csv'),\n",
    "]\n",
    "\n",
    "oof = np.array([o.pred for o in df_oof_list]).mean(0)\n",
    "sub = np.array([o.target for o in df_sub_list]).mean(0)\n",
    "\n",
    "human_index = df[df.label_type == \"human\"].index\n",
    "auto_index = df[df.label_type == \"auto\"].index\n",
    "print(\"Ensemble Oof CV score\", roc_auc_score(df.target, oof))\n",
    "print(\"Ensemble human Oof CV score\", roc_auc_score(df.target.values[human_index], oof[human_index]))\n",
    "print(\"Ensemble auto Oof CV score\", roc_auc_score(df.target.values[auto_index], oof[auto_index]))\n",
    "\n",
    "print()\n",
    "cv_score = []\n",
    "for i in range(5):\n",
    "    cv_index = df[df.cv == i].index\n",
    "    print(f\"Ensemble Oof CV {i} score\", roc_auc_score(df.target.values[cv_index], oof[cv_index]))\n",
    "    cv_score.append(roc_auc_score(df.target.values[cv_index], oof[cv_index]))\n",
    "print(\"mean of cv: \", np.mean(cv_score))\n",
    "print()\n",
    "    \n",
    "print()\n",
    "for th in [0.5, 0.6, 0.7, 0.8, 0.9, 0.95, 0.99]:\n",
    "    print('----------')\n",
    "    print(f\"Threshold: {th}, acc {(df.target.values[oof>th]>th).sum()/(oof>th).sum():.3f}, total true {(oof>th).sum()}\")\n",
    "    print(f\"Threshold: {th}, human acc {(df.target.values[human_index][oof[human_index]>th]>th).sum()/(oof[human_index]>th).sum():.3f}, total true {(oof[human_index]>th).sum()}\")    \n",
    "    print(f\"Threshold: {th}, auto acc {(df.target.values[auto_index][oof[auto_index]>th]>th).sum()/(oof[auto_index]>th).sum():.3f}, total true {(oof[auto_index]>th).sum()}\")\n",
    "    \n",
    "for th in [0.5, 0.4, 0.3, 0.2, 0.1, 0.05, 0.01]:\n",
    "    print('----------')\n",
    "    print(f\"Threshold: {th}, acc {(df.target.values[oof<th]<th).sum()/(oof<th).sum():.3f}, total true {(oof<th).sum()}\")\n",
    "    print(f\"Threshold: {th}, human acc {(df.target.values[human_index][oof[human_index]<th]<th).sum()/(oof[human_index]<th).sum():.3f}, total true {(oof[human_index]<th).sum()}\")    \n",
    "    print(f\"Threshold: {th}, auto acc {(df.target.values[auto_index][oof[auto_index]<th]<th).sum()/(oof[auto_index]<th).sum():.3f}, total true {(oof[auto_index]<th).sum()}\")    "
   ]
  },
  {
   "cell_type": "code",
   "execution_count": null,
   "id": "uniform-justice",
   "metadata": {},
   "outputs": [],
   "source": [
    "df_sub[\"target\"] = sub\n",
    "df_sub.to_csv(f'./sub/ens{ens}.csv', index=False)"
   ]
  },
  {
   "cell_type": "code",
   "execution_count": null,
   "id": "reliable-poverty",
   "metadata": {},
   "outputs": [],
   "source": []
  }
 ],
 "metadata": {
  "kernelspec": {
   "display_name": "Python 3",
   "language": "python",
   "name": "python3"
  },
  "language_info": {
   "codemirror_mode": {
    "name": "ipython",
    "version": 3
   },
   "file_extension": ".py",
   "mimetype": "text/x-python",
   "name": "python",
   "nbconvert_exporter": "python",
   "pygments_lexer": "ipython3",
   "version": "3.8.3"
  }
 },
 "nbformat": 4,
 "nbformat_minor": 5
}
